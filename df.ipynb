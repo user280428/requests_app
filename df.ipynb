{
 "cells": [
  {
   "cell_type": "code",
   "id": "initial_id",
   "metadata": {
    "collapsed": true,
    "ExecuteTime": {
     "end_time": "2024-12-06T19:05:18.050964Z",
     "start_time": "2024-12-06T19:05:17.284333Z"
    }
   },
   "source": [
    "import pandas as pd\n",
    "import openpyxl\n",
    "from openpyxl.styles import PatternFill"
   ],
   "outputs": [],
   "execution_count": 1
  },
  {
   "metadata": {
    "ExecuteTime": {
     "end_time": "2024-12-06T19:57:56.572385Z",
     "start_time": "2024-12-06T19:57:56.535243Z"
    }
   },
   "cell_type": "code",
   "source": [
    "df_base = pd.read_excel('базаа.xlsx')\n",
    "df_request = pd.read_excel('запрос.xlsx')"
   ],
   "id": "7404804772d49cb7",
   "outputs": [],
   "execution_count": 29
  },
  {
   "metadata": {
    "ExecuteTime": {
     "end_time": "2024-12-06T19:57:56.773240Z",
     "start_time": "2024-12-06T19:57:56.765262Z"
    }
   },
   "cell_type": "code",
   "source": "df_base['Аналоги_split'] = df_base['Аналоги'].apply(lambda x: x.split('\\n'))",
   "id": "7359caf12a73ba5",
   "outputs": [],
   "execution_count": 30
  },
  {
   "metadata": {
    "ExecuteTime": {
     "end_time": "2024-12-06T19:57:56.943009Z",
     "start_time": "2024-12-06T19:57:56.934034Z"
    }
   },
   "cell_type": "code",
   "source": "exploded_df = df_base.explode('Аналоги_split')",
   "id": "229c637d3e1e8f19",
   "outputs": [],
   "execution_count": 31
  },
  {
   "metadata": {
    "ExecuteTime": {
     "end_time": "2024-12-06T19:57:57.097037Z",
     "start_time": "2024-12-06T19:57:57.085404Z"
    }
   },
   "cell_type": "code",
   "source": "exploded_df['Аналоги_split'] = exploded_df['Аналоги_split'].apply(lambda x: x.split(' - ')[1].strip(' ,.-'))",
   "id": "da1a0643a6bdca8e",
   "outputs": [],
   "execution_count": 32
  },
  {
   "metadata": {
    "ExecuteTime": {
     "end_time": "2024-12-06T19:57:57.282692Z",
     "start_time": "2024-12-06T19:57:57.261670Z"
    }
   },
   "cell_type": "code",
   "source": [
    "df_base_1 = exploded_df[['Каталожный номер', 'Аналоги_split']].astype(str).reset_index(drop=True)\n",
    "df_base_1"
   ],
   "id": "431e0db5c4921b61",
   "outputs": [
    {
     "data": {
      "text/plain": [
       "  Каталожный номер Аналоги_split\n",
       "0              111       SC90248\n",
       "1              222           111\n",
       "2              333        OE3011\n",
       "3              444           333\n",
       "4              444       P763577\n",
       "5     2901 0523 00        OE3012\n",
       "6     2901 0523 23        OE3011"
      ],
      "text/html": [
       "<div>\n",
       "<style scoped>\n",
       "    .dataframe tbody tr th:only-of-type {\n",
       "        vertical-align: middle;\n",
       "    }\n",
       "\n",
       "    .dataframe tbody tr th {\n",
       "        vertical-align: top;\n",
       "    }\n",
       "\n",
       "    .dataframe thead th {\n",
       "        text-align: right;\n",
       "    }\n",
       "</style>\n",
       "<table border=\"1\" class=\"dataframe\">\n",
       "  <thead>\n",
       "    <tr style=\"text-align: right;\">\n",
       "      <th></th>\n",
       "      <th>Каталожный номер</th>\n",
       "      <th>Аналоги_split</th>\n",
       "    </tr>\n",
       "  </thead>\n",
       "  <tbody>\n",
       "    <tr>\n",
       "      <th>0</th>\n",
       "      <td>111</td>\n",
       "      <td>SC90248</td>\n",
       "    </tr>\n",
       "    <tr>\n",
       "      <th>1</th>\n",
       "      <td>222</td>\n",
       "      <td>111</td>\n",
       "    </tr>\n",
       "    <tr>\n",
       "      <th>2</th>\n",
       "      <td>333</td>\n",
       "      <td>OE3011</td>\n",
       "    </tr>\n",
       "    <tr>\n",
       "      <th>3</th>\n",
       "      <td>444</td>\n",
       "      <td>333</td>\n",
       "    </tr>\n",
       "    <tr>\n",
       "      <th>4</th>\n",
       "      <td>444</td>\n",
       "      <td>P763577</td>\n",
       "    </tr>\n",
       "    <tr>\n",
       "      <th>5</th>\n",
       "      <td>2901 0523 00</td>\n",
       "      <td>OE3012</td>\n",
       "    </tr>\n",
       "    <tr>\n",
       "      <th>6</th>\n",
       "      <td>2901 0523 23</td>\n",
       "      <td>OE3011</td>\n",
       "    </tr>\n",
       "  </tbody>\n",
       "</table>\n",
       "</div>"
      ]
     },
     "execution_count": 33,
     "metadata": {},
     "output_type": "execute_result"
    }
   ],
   "execution_count": 33
  },
  {
   "metadata": {
    "ExecuteTime": {
     "end_time": "2024-12-06T19:57:57.468222Z",
     "start_time": "2024-12-06T19:57:57.460243Z"
    }
   },
   "cell_type": "code",
   "source": [
    "def initial_df_to_base(path='базаа.xlsx'):\n",
    "    initial_df = pd.read_excel(path)\n",
    "    initial_df['Аналоги_split'] = initial_df['Аналоги'].apply(lambda x: x.split('\\n'))\n",
    "    exploded_df = initial_df.explode('Аналоги_split')\n",
    "    exploded_df['Аналоги_split'] = exploded_df['Аналоги_split'].apply(lambda x: x.split(' - ')[1].strip(' ,.-'))\n",
    "    df_base = exploded_df[['Каталожный номер', 'Аналоги_split']].astype(str).reset_index(drop=True)\n",
    "\n",
    "    return df_base"
   ],
   "id": "e4a4304f5d3702f4",
   "outputs": [],
   "execution_count": 34
  },
  {
   "metadata": {
    "ExecuteTime": {
     "end_time": "2024-12-06T19:57:57.637631Z",
     "start_time": "2024-12-06T19:57:57.621110Z"
    }
   },
   "cell_type": "code",
   "source": [
    "def request_df_to_request_list(path='запрос.xlsx'):\n",
    "    df_request = pd.read_excel(path)\n",
    "    request_numbers_list = df_request['Каталожный номер'].astype(str).to_list()\n",
    "    \n",
    "    return request_numbers_list"
   ],
   "id": "e9dd592225086b4e",
   "outputs": [],
   "execution_count": 35
  },
  {
   "metadata": {
    "ExecuteTime": {
     "end_time": "2024-12-06T19:57:57.807867Z",
     "start_time": "2024-12-06T19:57:57.790154Z"
    }
   },
   "cell_type": "code",
   "source": [
    "def num_finder(df_base_fixed, request_numbers_list):\n",
    "    nums_list = []\n",
    "    for num in request_numbers_list:\n",
    "        for i in df_base_fixed.index:\n",
    "            cat_num = df_base_fixed.loc[i, 'Каталожный номер']\n",
    "            analog_num = df_base_fixed.loc[i, 'Аналоги_split']\n",
    "            if num == cat_num or num == analog_num:\n",
    "                nums_list.append(num)\n",
    "    \n",
    "    return nums_list"
   ],
   "id": "8975387b31807bdb",
   "outputs": [],
   "execution_count": 36
  },
  {
   "metadata": {
    "ExecuteTime": {
     "end_time": "2024-12-06T19:57:58.131349Z",
     "start_time": "2024-12-06T19:57:58.125364Z"
    }
   },
   "cell_type": "code",
   "source": [
    "def request_handler(nums_list, path='базаа.xlsx'):\n",
    "    df_base = pd.read_excel(path)\n",
    "    df_base['Каталожный номер'] = df_base['Каталожный номер'].astype('str')\n",
    "    return_df = df_base[df_base['Каталожный номер'].astype(str).isin(nums_list)]\n",
    "    \n",
    "    return_df.to_excel('response.xlsx', index=False)\n",
    "    return return_df"
   ],
   "id": "42082967d26d6bce",
   "outputs": [],
   "execution_count": 37
  },
  {
   "metadata": {
    "ExecuteTime": {
     "end_time": "2024-12-06T19:57:58.455134Z",
     "start_time": "2024-12-06T19:57:58.414255Z"
    }
   },
   "cell_type": "code",
   "source": [
    "nums = num_finder(initial_df_to_base(), request_df_to_request_list())\n",
    "nums"
   ],
   "id": "50553b693b300507",
   "outputs": [
    {
     "data": {
      "text/plain": [
       "['2901 0523 00', '111', '111', '333', '333']"
      ]
     },
     "execution_count": 38,
     "metadata": {},
     "output_type": "execute_result"
    }
   ],
   "execution_count": 38
  },
  {
   "metadata": {
    "ExecuteTime": {
     "end_time": "2024-12-06T19:57:58.686975Z",
     "start_time": "2024-12-06T19:57:58.645211Z"
    }
   },
   "cell_type": "code",
   "source": "request_handler(nums)",
   "id": "c6ed821e98c27339",
   "outputs": [
    {
     "data": {
      "text/plain": [
       "   №                        Наименование Каталожный номер  \\\n",
       "0  1                               филтр              111   \n",
       "2  3                              корпус              333   \n",
       "4  5  Сепаратор 2901 0523 00 Atlas Copco     2901 0523 00   \n",
       "\n",
       "         Производитель  Цена от Элона, юани  Цена от Эрика, юани  \\\n",
       "0  Atlas Copco, ШВЕЦИЯ                 34.0              936.159   \n",
       "2  Atlas Copco, ШВЕЦИЯ                 55.0             3485.986   \n",
       "4  Atlas Copco, ШВЕЦИЯ                  NaN             3485.986   \n",
       "\n",
       "   Цена от Люси, юани          Аналоги  \\\n",
       "0                 7.0  hi-fi - SC90248   \n",
       "2                 NaN   hi-fi - OE3011   \n",
       "4                 NaN   hi-fi - OE3012   \n",
       "\n",
       "                                             Ссылка   Наличие чертежа   \n",
       "0  https://ru.filters-king.com/cabin-air-filter-5...               NaN  \n",
       "2    https://doring.ru/tovar/atlas-copco-2901052300/               NaN  \n",
       "4    https://doring.ru/tovar/atlas-copco-2901052300/               NaN  "
      ],
      "text/html": [
       "<div>\n",
       "<style scoped>\n",
       "    .dataframe tbody tr th:only-of-type {\n",
       "        vertical-align: middle;\n",
       "    }\n",
       "\n",
       "    .dataframe tbody tr th {\n",
       "        vertical-align: top;\n",
       "    }\n",
       "\n",
       "    .dataframe thead th {\n",
       "        text-align: right;\n",
       "    }\n",
       "</style>\n",
       "<table border=\"1\" class=\"dataframe\">\n",
       "  <thead>\n",
       "    <tr style=\"text-align: right;\">\n",
       "      <th></th>\n",
       "      <th>№</th>\n",
       "      <th>Наименование</th>\n",
       "      <th>Каталожный номер</th>\n",
       "      <th>Производитель</th>\n",
       "      <th>Цена от Элона, юани</th>\n",
       "      <th>Цена от Эрика, юани</th>\n",
       "      <th>Цена от Люси, юани</th>\n",
       "      <th>Аналоги</th>\n",
       "      <th>Ссылка</th>\n",
       "      <th>Наличие чертежа</th>\n",
       "    </tr>\n",
       "  </thead>\n",
       "  <tbody>\n",
       "    <tr>\n",
       "      <th>0</th>\n",
       "      <td>1</td>\n",
       "      <td>филтр</td>\n",
       "      <td>111</td>\n",
       "      <td>Atlas Copco, ШВЕЦИЯ</td>\n",
       "      <td>34.0</td>\n",
       "      <td>936.159</td>\n",
       "      <td>7.0</td>\n",
       "      <td>hi-fi - SC90248</td>\n",
       "      <td>https://ru.filters-king.com/cabin-air-filter-5...</td>\n",
       "      <td>NaN</td>\n",
       "    </tr>\n",
       "    <tr>\n",
       "      <th>2</th>\n",
       "      <td>3</td>\n",
       "      <td>корпус</td>\n",
       "      <td>333</td>\n",
       "      <td>Atlas Copco, ШВЕЦИЯ</td>\n",
       "      <td>55.0</td>\n",
       "      <td>3485.986</td>\n",
       "      <td>NaN</td>\n",
       "      <td>hi-fi - OE3011</td>\n",
       "      <td>https://doring.ru/tovar/atlas-copco-2901052300/</td>\n",
       "      <td>NaN</td>\n",
       "    </tr>\n",
       "    <tr>\n",
       "      <th>4</th>\n",
       "      <td>5</td>\n",
       "      <td>Сепаратор 2901 0523 00 Atlas Copco</td>\n",
       "      <td>2901 0523 00</td>\n",
       "      <td>Atlas Copco, ШВЕЦИЯ</td>\n",
       "      <td>NaN</td>\n",
       "      <td>3485.986</td>\n",
       "      <td>NaN</td>\n",
       "      <td>hi-fi - OE3012</td>\n",
       "      <td>https://doring.ru/tovar/atlas-copco-2901052300/</td>\n",
       "      <td>NaN</td>\n",
       "    </tr>\n",
       "  </tbody>\n",
       "</table>\n",
       "</div>"
      ]
     },
     "execution_count": 39,
     "metadata": {},
     "output_type": "execute_result"
    }
   ],
   "execution_count": 39
  },
  {
   "metadata": {
    "ExecuteTime": {
     "end_time": "2024-12-06T19:57:59.025110Z",
     "start_time": "2024-12-06T19:57:59.008152Z"
    }
   },
   "cell_type": "code",
   "source": [
    "workbook = openpyxl.load_workbook('базаа.xlsx')\n",
    "sheet = workbook['Лист1']"
   ],
   "id": "fa1bd16efa17a386",
   "outputs": [],
   "execution_count": 40
  },
  {
   "metadata": {
    "ExecuteTime": {
     "end_time": "2024-12-06T19:57:59.644286Z",
     "start_time": "2024-12-06T19:57:59.638299Z"
    }
   },
   "cell_type": "code",
   "source": "fill = PatternFill(start_color=\"ebf051\", end_color=\"ebf051\", fill_type=\"solid\")",
   "id": "7606366cea93117b",
   "outputs": [],
   "execution_count": 41
  },
  {
   "metadata": {
    "ExecuteTime": {
     "end_time": "2024-12-06T19:57:59.970081Z",
     "start_time": "2024-12-06T19:57:59.941670Z"
    }
   },
   "cell_type": "code",
   "source": [
    "unfilled_list = []\n",
    "a = 1\n",
    "for row in range(1, sheet.max_row + 1):\n",
    "    cell = sheet.cell(row=row, column=3)\n",
    "    if str(cell.value) in nums:\n",
    "        cell.fill = fill\n",
    "    else:\n",
    "        unfilled_list.append(a)\n",
    "    a += 1\n",
    "    \n",
    "b = 1\n",
    "for row in range(1, sheet.max_row + 1):\n",
    "    cell = sheet.cell(row=row, column=8)\n",
    "    if b in unfilled_list:\n",
    "        cell.fill = fill\n",
    "        \n",
    "workbook.save('example_highlighted.xlsx')"
   ],
   "id": "fe45bd276284288a",
   "outputs": [],
   "execution_count": 42
  },
  {
   "metadata": {
    "ExecuteTime": {
     "end_time": "2024-12-06T19:58:00.340603Z",
     "start_time": "2024-12-06T19:58:00.327208Z"
    }
   },
   "cell_type": "code",
   "source": [
    "def request_df_to_request_list(path='запрос.xlsx'):\n",
    "    df_request = pd.read_excel(path)\n",
    "    request_numbers_list = df_request['Каталожный номер'].astype(str).to_list()\n",
    "\n",
    "    return request_numbers_list\n",
    "\n",
    "\n",
    "def num_finder(df_base, request_numbers_list):\n",
    "    nums_list = []\n",
    "    for num in request_numbers_list:\n",
    "        for i in df_base.index:\n",
    "            cat_num = df_base.loc[i, 'Каталожный номер']\n",
    "            analog_num = df_base.loc[i, 'Аналоги_split']\n",
    "            if num == cat_num or num == analog_num:\n",
    "                nums_list.append(num)\n",
    "\n",
    "    return nums_list"
   ],
   "id": "8d61f796000bb7ce",
   "outputs": [],
   "execution_count": 43
  },
  {
   "metadata": {
    "ExecuteTime": {
     "end_time": "2024-12-06T19:58:01.063200Z",
     "start_time": "2024-12-06T19:58:01.046221Z"
    }
   },
   "cell_type": "code",
   "source": "num_finder(df_base()",
   "id": "647aff5ed0a867a7",
   "outputs": [
    {
     "ename": "SyntaxError",
     "evalue": "incomplete input (2341676987.py, line 1)",
     "output_type": "error",
     "traceback": [
      "\u001B[1;36m  Cell \u001B[1;32mIn[44], line 1\u001B[1;36m\u001B[0m\n\u001B[1;33m    num_finder(df_base()\u001B[0m\n\u001B[1;37m                        ^\u001B[0m\n\u001B[1;31mSyntaxError\u001B[0m\u001B[1;31m:\u001B[0m incomplete input\n"
     ]
    }
   ],
   "execution_count": 44
  },
  {
   "metadata": {
    "ExecuteTime": {
     "end_time": "2024-12-06T19:58:57.437086Z",
     "start_time": "2024-12-06T19:58:57.422118Z"
    }
   },
   "cell_type": "code",
   "source": [
    "def request_handler(nums_list, path='базаа.xlsx'):\n",
    "    rows_list = []\n",
    "    initial_df = pd.read_excel(path)\n",
    "    for i in initial_df.index:\n",
    "        for num in nums_list:\n",
    "            if (num in str(initial_df.loc[i, 'Каталожный номер'])) or (num in str(initial_df.loc[i, 'Аналоги'])):\n",
    "                rows_list.append(initial_df.loc[[i]])\n",
    "    return_df = pd.concat(rows_list)\n",
    "    return_df = return_df.drop_duplicates(keep='first')\n",
    "    return return_df \n",
    "    # output = io.BytesIO()\n",
    "    # with pd.ExcelWriter(output, engine='openpyxl') as writer:\n",
    "    #     return_df.to_excel(writer, index=False)\n",
    "    # output.seek(0)\n",
    "    # \n",
    "    # workbook = openpyxl.load_workbook(output)\n",
    "    # sheet = workbook['Sheet1']\n",
    "    # fill = PatternFill(start_color=\"ebf051\", end_color=\"ebf051\", fill_type=\"solid\")\n",
    "    # \n",
    "    # for row in range(1, sheet.max_row + 1):\n",
    "    #     cell = sheet.cell(row=row, column=3)\n",
    "    #     for num in nums_list:\n",
    "    #         if num in str(cell.value):\n",
    "    #             cell.fill = fill\n",
    "    # \n",
    "    # \n",
    "    # \n",
    "    # for row in range(1, sheet.max_row + 1):\n",
    "    #     cell = sheet.cell(row=row, column=8)\n",
    "    #     for num in nums_list:\n",
    "    #         if num in str(cell.value):\n",
    "    #             cell.fill = fill\n",
    "    # \n",
    "    # \n",
    "    # return workbook"
   ],
   "id": "48e4fc115f83589c",
   "outputs": [],
   "execution_count": 53
  },
  {
   "metadata": {
    "ExecuteTime": {
     "end_time": "2024-12-06T19:58:57.760240Z",
     "start_time": "2024-12-06T19:58:57.701397Z"
    }
   },
   "cell_type": "code",
   "source": "request_handler(num_finder(initial_df_to_base(), request_df_to_request_list()))",
   "id": "24fb0d81e64d69fb",
   "outputs": [
    {
     "data": {
      "text/plain": [
       "   №                        Наименование Каталожный номер  \\\n",
       "0  1                               филтр              111   \n",
       "1  2                           фильтр пп              222   \n",
       "2  3                              корпус              333   \n",
       "3  4                     элемент фильтра              444   \n",
       "4  5  Сепаратор 2901 0523 00 Atlas Copco     2901 0523 00   \n",
       "\n",
       "         Производитель  Цена от Элона, юани  Цена от Эрика, юани  \\\n",
       "0  Atlas Copco, ШВЕЦИЯ                 34.0              936.159   \n",
       "1  Atlas Copco, ШВЕЦИЯ                  NaN              968.800   \n",
       "2  Atlas Copco, ШВЕЦИЯ                 55.0             3485.986   \n",
       "3  Atlas Copco, ШВЕЦИЯ                  NaN              209.678   \n",
       "4  Atlas Copco, ШВЕЦИЯ                  NaN             3485.986   \n",
       "\n",
       "   Цена от Люси, юани                             Аналоги  \\\n",
       "0                 7.0                     hi-fi - SC90248   \n",
       "1                 NaN                         hi-fi - 111   \n",
       "2                 NaN                      hi-fi - OE3011   \n",
       "3                 NaN  hi-fi - 333, \\nDonaldson - P763577   \n",
       "4                 NaN                      hi-fi - OE3012   \n",
       "\n",
       "                                             Ссылка   Наличие чертежа   \n",
       "0  https://ru.filters-king.com/cabin-air-filter-5...               NaN  \n",
       "1  https://ru.filters-king.com/cabin-air-filter-5...               NaN  \n",
       "2    https://doring.ru/tovar/atlas-copco-2901052300/               NaN  \n",
       "3          https://doring.ru/search/?q=3222188132&s=               NaN  \n",
       "4    https://doring.ru/tovar/atlas-copco-2901052300/               NaN  "
      ],
      "text/html": [
       "<div>\n",
       "<style scoped>\n",
       "    .dataframe tbody tr th:only-of-type {\n",
       "        vertical-align: middle;\n",
       "    }\n",
       "\n",
       "    .dataframe tbody tr th {\n",
       "        vertical-align: top;\n",
       "    }\n",
       "\n",
       "    .dataframe thead th {\n",
       "        text-align: right;\n",
       "    }\n",
       "</style>\n",
       "<table border=\"1\" class=\"dataframe\">\n",
       "  <thead>\n",
       "    <tr style=\"text-align: right;\">\n",
       "      <th></th>\n",
       "      <th>№</th>\n",
       "      <th>Наименование</th>\n",
       "      <th>Каталожный номер</th>\n",
       "      <th>Производитель</th>\n",
       "      <th>Цена от Элона, юани</th>\n",
       "      <th>Цена от Эрика, юани</th>\n",
       "      <th>Цена от Люси, юани</th>\n",
       "      <th>Аналоги</th>\n",
       "      <th>Ссылка</th>\n",
       "      <th>Наличие чертежа</th>\n",
       "    </tr>\n",
       "  </thead>\n",
       "  <tbody>\n",
       "    <tr>\n",
       "      <th>0</th>\n",
       "      <td>1</td>\n",
       "      <td>филтр</td>\n",
       "      <td>111</td>\n",
       "      <td>Atlas Copco, ШВЕЦИЯ</td>\n",
       "      <td>34.0</td>\n",
       "      <td>936.159</td>\n",
       "      <td>7.0</td>\n",
       "      <td>hi-fi - SC90248</td>\n",
       "      <td>https://ru.filters-king.com/cabin-air-filter-5...</td>\n",
       "      <td>NaN</td>\n",
       "    </tr>\n",
       "    <tr>\n",
       "      <th>1</th>\n",
       "      <td>2</td>\n",
       "      <td>фильтр пп</td>\n",
       "      <td>222</td>\n",
       "      <td>Atlas Copco, ШВЕЦИЯ</td>\n",
       "      <td>NaN</td>\n",
       "      <td>968.800</td>\n",
       "      <td>NaN</td>\n",
       "      <td>hi-fi - 111</td>\n",
       "      <td>https://ru.filters-king.com/cabin-air-filter-5...</td>\n",
       "      <td>NaN</td>\n",
       "    </tr>\n",
       "    <tr>\n",
       "      <th>2</th>\n",
       "      <td>3</td>\n",
       "      <td>корпус</td>\n",
       "      <td>333</td>\n",
       "      <td>Atlas Copco, ШВЕЦИЯ</td>\n",
       "      <td>55.0</td>\n",
       "      <td>3485.986</td>\n",
       "      <td>NaN</td>\n",
       "      <td>hi-fi - OE3011</td>\n",
       "      <td>https://doring.ru/tovar/atlas-copco-2901052300/</td>\n",
       "      <td>NaN</td>\n",
       "    </tr>\n",
       "    <tr>\n",
       "      <th>3</th>\n",
       "      <td>4</td>\n",
       "      <td>элемент фильтра</td>\n",
       "      <td>444</td>\n",
       "      <td>Atlas Copco, ШВЕЦИЯ</td>\n",
       "      <td>NaN</td>\n",
       "      <td>209.678</td>\n",
       "      <td>NaN</td>\n",
       "      <td>hi-fi - 333, \\nDonaldson - P763577</td>\n",
       "      <td>https://doring.ru/search/?q=3222188132&amp;s=</td>\n",
       "      <td>NaN</td>\n",
       "    </tr>\n",
       "    <tr>\n",
       "      <th>4</th>\n",
       "      <td>5</td>\n",
       "      <td>Сепаратор 2901 0523 00 Atlas Copco</td>\n",
       "      <td>2901 0523 00</td>\n",
       "      <td>Atlas Copco, ШВЕЦИЯ</td>\n",
       "      <td>NaN</td>\n",
       "      <td>3485.986</td>\n",
       "      <td>NaN</td>\n",
       "      <td>hi-fi - OE3012</td>\n",
       "      <td>https://doring.ru/tovar/atlas-copco-2901052300/</td>\n",
       "      <td>NaN</td>\n",
       "    </tr>\n",
       "  </tbody>\n",
       "</table>\n",
       "</div>"
      ]
     },
     "execution_count": 54,
     "metadata": {},
     "output_type": "execute_result"
    }
   ],
   "execution_count": 54
  },
  {
   "metadata": {},
   "cell_type": "code",
   "outputs": [],
   "execution_count": null,
   "source": "",
   "id": "6c4226465645df9f"
  }
 ],
 "metadata": {
  "kernelspec": {
   "display_name": "Python 3",
   "language": "python",
   "name": "python3"
  },
  "language_info": {
   "codemirror_mode": {
    "name": "ipython",
    "version": 2
   },
   "file_extension": ".py",
   "mimetype": "text/x-python",
   "name": "python",
   "nbconvert_exporter": "python",
   "pygments_lexer": "ipython2",
   "version": "2.7.6"
  }
 },
 "nbformat": 4,
 "nbformat_minor": 5
}
